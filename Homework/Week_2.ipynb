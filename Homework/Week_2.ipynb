{
 "cells": [
  {
   "cell_type": "code",
   "execution_count": 66,
   "metadata": {},
   "outputs": [],
   "source": [
    "## Week 2 Homework\n",
    "import pandas as pd\n",
    "import numpy as np\n",
    "from sklearn.model_selection import train_test_split"
   ]
  },
  {
   "cell_type": "code",
   "execution_count": 67,
   "metadata": {},
   "outputs": [
    {
     "data": {
      "text/plain": [
       "latitude  longitude  housing_median_age  total_rooms  total_bedrooms  population  households  median_income  median_house_value\n",
       "False     False      False               False        False           False       False       False          False                 20433\n",
       "                                                      True            False       False       False          False                   207\n",
       "dtype: int64"
      ]
     },
     "execution_count": 67,
     "metadata": {},
     "output_type": "execute_result"
    }
   ],
   "source": [
    "# Question 1\n",
    "df = pd.read_csv('housing.csv')\n",
    "\n",
    "df = df[['latitude',\n",
    "    'longitude',\n",
    "    'housing_median_age',\n",
    "    'total_rooms',\n",
    "    'total_bedrooms',\n",
    "    'population',\n",
    "    'households',\n",
    "    'median_income',\n",
    "    'median_house_value']]\n",
    "\n",
    "\n",
    "\n",
    "# find columns with missing values\n",
    "df.isna().value_counts()"
   ]
  },
  {
   "cell_type": "code",
   "execution_count": 68,
   "metadata": {},
   "outputs": [
    {
     "data": {
      "text/plain": [
       "False    20433\n",
       "True       207\n",
       "Name: total_bedrooms, dtype: int64"
      ]
     },
     "execution_count": 68,
     "metadata": {},
     "output_type": "execute_result"
    }
   ],
   "source": [
    "df['total_bedrooms'].isna().value_counts()\n"
   ]
  },
  {
   "cell_type": "code",
   "execution_count": 69,
   "metadata": {},
   "outputs": [
    {
     "data": {
      "text/plain": [
       "1166.0"
      ]
     },
     "execution_count": 69,
     "metadata": {},
     "output_type": "execute_result"
    }
   ],
   "source": [
    "# Question 2\n",
    "df.population.median()"
   ]
  },
  {
   "cell_type": "code",
   "execution_count": null,
   "metadata": {},
   "outputs": [],
   "source": [
    "## Question 3 Functions\n",
    "def train_linear_regression(X, y):\n",
    "    ones = np.ones(X.shape[0])\n",
    "    X = np.column_stack([ones, X])\n",
    "\n",
    "    XTX = X.T.dot(X)\n",
    "    XTX_inv = np.linalg.inv(XTX)\n",
    "    w = XTX_inv.dot(X.T).dot(y)\n",
    "    \n",
    "    return w[0], w[1:]\n",
    "\n",
    "def rmse(y, y_pred):\n",
    "    error = y_pred - y\n",
    "    mse = (error ** 2).mean()\n",
    "    return np.sqrt(mse)"
   ]
  },
  {
   "cell_type": "code",
   "execution_count": 83,
   "metadata": {},
   "outputs": [
    {
     "name": "stdout",
     "output_type": "stream",
     "text": [
      "RMSE for validation data is 0.57\n"
     ]
    }
   ],
   "source": [
    "# Question 3 Pre Processing\n",
    "X = df.drop(columns=['median_house_value'])\n",
    "y = df['median_house_value']\n",
    "\n",
    "# log transformation\n",
    "y = np.log1p(y)\n",
    "\n",
    "X = X.fillna(0)\n",
    "\n",
    "# Split into test and train at 60/40\n",
    "X_train, X_test, y_train, y_test = train_test_split(X, y, test_size=0.6, random_state=42)\n",
    "\n",
    "# now split into train and validation to give 60/20/20 split\n",
    "X_train, X_val, y_train, y_val = train_test_split(X_train, y_train, test_size=0.5, random_state=42)\n",
    "\n",
    "# train model with na fill of 0 on validation data\n",
    "w_0, w = train_linear_regression(X_train, y_val)\n",
    "y_pred = w_0 + X_val.dot(w)\n",
    "\n",
    "print(f\"RMSE for validation data is {round(rmse(y_val, y_pred),2)}\")"
   ]
  },
  {
   "cell_type": "code",
   "execution_count": 84,
   "metadata": {},
   "outputs": [
    {
     "name": "stdout",
     "output_type": "stream",
     "text": [
      "RMSE for validation data is 0.57\n"
     ]
    }
   ],
   "source": [
    "# Question 3 Pre Processing\n",
    "X = df.drop(columns=['median_house_value'])\n",
    "y = df['median_house_value']\n",
    "\n",
    "# log transformation\n",
    "y = np.log1p(y)\n",
    "\n",
    "value = X_train.mean()\n",
    "X = X.fillna(value)\n",
    "\n",
    "# Split into test and train at 60/40\n",
    "X_train, X_test, y_train, y_test = train_test_split(X, y, test_size=0.6, random_state=42)\n",
    "\n",
    "# now split into train and validation to give 60/20/20 split\n",
    "X_train, X_val, y_train, y_val = train_test_split(X_train, y_train, test_size=0.5, random_state=42)\n",
    "\n",
    "# train model with na fill of 0 on validation data\n",
    "w_0, w = train_linear_regression(X_train, y_val)\n",
    "y_pred = w_0 + X_val.dot(w)\n",
    "\n",
    "print(f\"RMSE for validation data is {round(rmse(y_val, y_pred),2)}\")"
   ]
  },
  {
   "cell_type": "code",
   "execution_count": 86,
   "metadata": {},
   "outputs": [
    {
     "name": "stdout",
     "output_type": "stream",
     "text": [
      "RMSE for validation data with 0 is 0.57\n",
      "RMSE for validation data with 1e-06 is 0.57\n",
      "RMSE for validation data with 0.0001 is 0.57\n",
      "RMSE for validation data with 0.001 is 0.57\n",
      "RMSE for validation data with 0.01 is 0.57\n",
      "RMSE for validation data with 0.1 is 0.56\n",
      "RMSE for validation data with 1 is 0.55\n",
      "RMSE for validation data with 5 is 0.55\n",
      "RMSE for validation data with 10 is 0.55\n"
     ]
    }
   ],
   "source": [
    "## Quesion 4 Regularization\n",
    "def train_linear_regression_reg(X, y, r=0.0):\n",
    "    ones = np.ones(X.shape[0])\n",
    "    X = np.column_stack([ones, X])\n",
    "\n",
    "    XTX = X.T.dot(X)\n",
    "    reg = r * np.eye(XTX.shape[0])\n",
    "    XTX = XTX + reg\n",
    "\n",
    "    XTX_inv = np.linalg.inv(XTX)\n",
    "    w = XTX_inv.dot(X.T).dot(y)\n",
    "    \n",
    "    return w[0], w[1:]\n",
    "\n",
    "X = df.drop(columns=['median_house_value'])\n",
    "y = df['median_house_value']\n",
    "\n",
    "# log transformation\n",
    "y = np.log1p(y)\n",
    "\n",
    "X = X.fillna(0)\n",
    "\n",
    "\n",
    "# Split into test and train at 60/40\n",
    "X_train, X_test, y_train, y_test = train_test_split(X, y, test_size=0.6, random_state=42)\n",
    "\n",
    "# now split into train and validation to give 60/20/20 split\n",
    "X_train, X_val, y_train, y_val = train_test_split(X_train, y_train, test_size=0.5, random_state=42)\n",
    "\n",
    "# train model with na fill of 0 on validation data\n",
    "for r_value in [0, 0.000001, 0.0001, 0.001, 0.01, 0.1, 1, 5, 10]:\n",
    "    w_0, w = train_linear_regression_reg(X_train, y_val, r=r_value)\n",
    "    y_pred = w_0 + X_val.dot(w)\n",
    "    print(f\"RMSE for validation data with {r_value} is {round(rmse(y_val, y_pred),2)}\")"
   ]
  },
  {
   "cell_type": "code",
   "execution_count": 89,
   "metadata": {},
   "outputs": [],
   "source": [
    "## Question 5\n",
    "values = []\n",
    "\n",
    "X = df.drop(columns=['median_house_value'])\n",
    "y = df['median_house_value']\n",
    "X = X.fillna(0)\n",
    "y = np.log1p(y)\n",
    "\n",
    "\n",
    "for seed in [0, 1, 2, 3, 4, 5, 6, 7, 8, 9]:\n",
    "    # Split into test and train at 60/40\n",
    "    X_train, X_test, y_train, y_test = train_test_split(X, y, test_size=0.6, random_state=seed)\n",
    "\n",
    "    # now split into train and validation to give 60/20/20 split\n",
    "    X_train, X_val, y_train, y_val = train_test_split(X_train, y_train, test_size=0.5, random_state=seed)\n",
    "    \n",
    "    w_0, w = train_linear_regression(X_train, y_val)\n",
    "    y_pred = w_0 + X_val.dot(w)\n",
    "    rmse_score = round(rmse(y_val, y_pred),2)\n",
    "    values.append(rmse_score)\n",
    "\n"
   ]
  },
  {
   "cell_type": "code",
   "execution_count": 92,
   "metadata": {},
   "outputs": [
    {
     "data": {
      "text/plain": [
       "0.008"
      ]
     },
     "execution_count": 92,
     "metadata": {},
     "output_type": "execute_result"
    }
   ],
   "source": [
    "round(np.std(values),3)"
   ]
  },
  {
   "cell_type": "code",
   "execution_count": 96,
   "metadata": {},
   "outputs": [
    {
     "name": "stdout",
     "output_type": "stream",
     "text": [
      " RMSE is 0.34\n"
     ]
    }
   ],
   "source": [
    "## Question 6\n",
    "\n",
    "X = df.drop(columns=['median_house_value'])\n",
    "y = df['median_house_value']\n",
    "X = X.fillna(0)\n",
    "y = np.log1p(y)\n",
    "\n",
    "X_train, X_test, y_train, y_test = train_test_split(X, y, test_size=0.6, random_state=9)\n",
    "\n",
    "\n",
    "w_0, w = train_linear_regression_reg(X_train, y_train, r=0.001)\n",
    " \n",
    "y_pred = w_0 + X_test.dot(w)\n",
    "print(f' RMSE is {round(rmse(y_test, y_pred),2)}')"
   ]
  }
 ],
 "metadata": {
  "kernelspec": {
   "display_name": "Python 3.8.2 64-bit",
   "language": "python",
   "name": "python3"
  },
  "language_info": {
   "codemirror_mode": {
    "name": "ipython",
    "version": 3
   },
   "file_extension": ".py",
   "mimetype": "text/x-python",
   "name": "python",
   "nbconvert_exporter": "python",
   "pygments_lexer": "ipython3",
   "version": "3.8.2"
  },
  "orig_nbformat": 4,
  "vscode": {
   "interpreter": {
    "hash": "916dbcbb3f70747c44a77c7bcd40155683ae19c65e1c03b4aa3499c5328201f1"
   }
  }
 },
 "nbformat": 4,
 "nbformat_minor": 2
}
