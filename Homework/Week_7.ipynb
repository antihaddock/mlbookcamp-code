{
 "cells": [
  {
   "cell_type": "markdown",
   "metadata": {},
   "source": [
    "## Week 7 Homework"
   ]
  },
  {
   "cell_type": "code",
   "execution_count": 87,
   "metadata": {},
   "outputs": [],
   "source": [
    "import numpy as np\n",
    "import pandas as pd\n",
    "import matplotlib.pyplot as plt\n",
    "import tensorflow as tf\n",
    "\n",
    "from PIL import Image\n",
    "from tensorflow.keras.preprocessing.image import ImageDataGenerator\n",
    "from tensorflow.keras import datasets, layers, models, optimizers, losses\n",
    "\n",
    "from statistics import median, stdev, mean"
   ]
  },
  {
   "cell_type": "code",
   "execution_count": 63,
   "metadata": {},
   "outputs": [
    {
     "name": "stdout",
     "output_type": "stream",
     "text": [
      "Model: \"sequential_6\"\n",
      "_________________________________________________________________\n",
      "Layer (type)                 Output Shape              Param #   \n",
      "=================================================================\n",
      "conv2d_8 (Conv2D)            (None, 148, 148, 32)      896       \n",
      "_________________________________________________________________\n",
      "max_pooling2d_7 (MaxPooling2 (None, 74, 74, 32)        0         \n",
      "_________________________________________________________________\n",
      "flatten_5 (Flatten)          (None, 175232)            0         \n",
      "_________________________________________________________________\n",
      "dense_10 (Dense)             (None, 64)                11214912  \n",
      "_________________________________________________________________\n",
      "dense_11 (Dense)             (None, 1)                 65        \n",
      "=================================================================\n",
      "Total params: 11,215,873\n",
      "Trainable params: 11,215,873\n",
      "Non-trainable params: 0\n",
      "_________________________________________________________________\n"
     ]
    }
   ],
   "source": [
    "## Creating the model\n",
    "model = models.Sequential()\n",
    "model.add(layers.Conv2D(32, (3, 3), activation='relu', input_shape=(150, 150, 3)))\n",
    "model.add(layers.MaxPooling2D((2, 2)))\n",
    "model.add(layers.Flatten())\n",
    "model.add(layers.Dense(64, activation='relu'))\n",
    "model.add(layers.Dense(1, activation='sigmoid'))\n",
    "\n",
    "# Model Architecture\n",
    "model.summary()"
   ]
  },
  {
   "cell_type": "code",
   "execution_count": 64,
   "metadata": {},
   "outputs": [],
   "source": [
    "optmizer = optimizers.SGD(lr=0.002, momentum=0.8)\n",
    "model.compile(optimizer=optmizer,\n",
    "              loss=losses.BinaryCrossentropy(),\n",
    "              metrics=['accuracy'])\n"
   ]
  },
  {
   "cell_type": "code",
   "execution_count": 65,
   "metadata": {},
   "outputs": [
    {
     "name": "stdout",
     "output_type": "stream",
     "text": [
      "Found 1594 images belonging to 2 classes.\n"
     ]
    }
   ],
   "source": [
    "## Question 3\n",
    "\n",
    "train_gen = ImageDataGenerator(rescale=1./255)\n",
    "\n",
    "train_generator = train_gen.flow_from_directory(\n",
    "     \"/home/antihaddock/Repos/mlbookcamp-code/mlbookcamp-code/data/train/\",\n",
    "    seed=1,\n",
    "    target_size=(150,150),\n",
    "    batch_size=20,\n",
    "    class_mode='binary',\n",
    "    classes=['dino', 'dragon'],\n",
    "    shuffle=True\n",
    ")"
   ]
  },
  {
   "cell_type": "code",
   "execution_count": 66,
   "metadata": {},
   "outputs": [
    {
     "name": "stdout",
     "output_type": "stream",
     "text": [
      "Epoch 1/10\n",
      "80/80 [==============================] - 5s 63ms/step - loss: 0.6294 - accuracy: 0.6344\n",
      "Epoch 2/10\n",
      "80/80 [==============================] - 5s 60ms/step - loss: 0.4393 - accuracy: 0.7932\n",
      "Epoch 3/10\n",
      "80/80 [==============================] - 5s 60ms/step - loss: 0.3629 - accuracy: 0.8580\n",
      "Epoch 4/10\n",
      "80/80 [==============================] - 5s 60ms/step - loss: 0.2891 - accuracy: 0.9011\n",
      "Epoch 5/10\n",
      "80/80 [==============================] - 5s 60ms/step - loss: 0.2632 - accuracy: 0.9032\n",
      "Epoch 6/10\n",
      "80/80 [==============================] - 5s 59ms/step - loss: 0.2319 - accuracy: 0.9236\n",
      "Epoch 7/10\n",
      "80/80 [==============================] - 5s 59ms/step - loss: 0.1964 - accuracy: 0.9355\n",
      "Epoch 8/10\n",
      "80/80 [==============================] - 5s 60ms/step - loss: 0.1595 - accuracy: 0.9552\n",
      "Epoch 9/10\n",
      "80/80 [==============================] - 5s 60ms/step - loss: 0.1364 - accuracy: 0.9643\n",
      "Epoch 10/10\n",
      "80/80 [==============================] - 5s 59ms/step - loss: 0.1091 - accuracy: 0.9796\n"
     ]
    },
    {
     "data": {
      "text/plain": [
       "<tensorflow.python.keras.callbacks.History at 0x7f2634ee89a0>"
      ]
     },
     "execution_count": 66,
     "metadata": {},
     "output_type": "execute_result"
    }
   ],
   "source": [
    "model.fit(\n",
    "    train_generator,\n",
    "    epochs=10\n",
    ")"
   ]
  },
  {
   "cell_type": "code",
   "execution_count": 75,
   "metadata": {},
   "outputs": [
    {
     "name": "stderr",
     "output_type": "stream",
     "text": [
      "2022-11-21 20:47:19.819382: W tensorflow/core/framework/cpu_allocator_impl.cc:80] Allocation of 44859392 exceeds 10% of free system memory.\n",
      "2022-11-21 20:47:19.911820: W tensorflow/core/framework/cpu_allocator_impl.cc:80] Allocation of 44859392 exceeds 10% of free system memory.\n"
     ]
    }
   ],
   "source": [
    "tf.keras.Model.save(model, 'Homework_model.hdf5')"
   ]
  },
  {
   "cell_type": "code",
   "execution_count": 67,
   "metadata": {},
   "outputs": [
    {
     "data": {
      "text/plain": [
       "0.9131116569042206"
      ]
     },
     "execution_count": 67,
     "metadata": {},
     "output_type": "execute_result"
    }
   ],
   "source": [
    "train_accuracy = model.history.history['accuracy']\n",
    "median(train_accuracy)"
   ]
  },
  {
   "cell_type": "code",
   "execution_count": 68,
   "metadata": {},
   "outputs": [
    {
     "data": {
      "text/plain": [
       "0.14115357241456608"
      ]
     },
     "execution_count": 68,
     "metadata": {},
     "output_type": "execute_result"
    }
   ],
   "source": [
    "## Question 4\n",
    "train_loss = model.history.history['loss']\n",
    "stdev(train_loss)"
   ]
  },
  {
   "cell_type": "code",
   "execution_count": 80,
   "metadata": {},
   "outputs": [
    {
     "name": "stdout",
     "output_type": "stream",
     "text": [
      "Found 1594 images belonging to 2 classes.\n",
      "Epoch 1/10\n",
      "80/80 [==============================] - 10s 118ms/step - loss: 2765.6101 - accuracy: 0.5157\n",
      "Epoch 2/10\n",
      "80/80 [==============================] - 9s 116ms/step - loss: 0.7859 - accuracy: 0.5194\n",
      "Epoch 3/10\n",
      "80/80 [==============================] - 9s 116ms/step - loss: 0.6925 - accuracy: 0.5188\n",
      "Epoch 4/10\n",
      "80/80 [==============================] - 9s 117ms/step - loss: 0.6925 - accuracy: 0.5188\n",
      "Epoch 5/10\n",
      "80/80 [==============================] - 9s 116ms/step - loss: 0.6922 - accuracy: 0.5207\n",
      "Epoch 6/10\n",
      "80/80 [==============================] - 9s 117ms/step - loss: 0.6925 - accuracy: 0.5188\n",
      "Epoch 7/10\n",
      "80/80 [==============================] - 9s 116ms/step - loss: 0.6935 - accuracy: 0.5182\n",
      "Epoch 8/10\n",
      "80/80 [==============================] - 9s 114ms/step - loss: 0.6925 - accuracy: 0.5188\n",
      "Epoch 9/10\n",
      "80/80 [==============================] - 9s 113ms/step - loss: 0.6925 - accuracy: 0.5188\n",
      "Epoch 10/10\n",
      "80/80 [==============================] - 9s 112ms/step - loss: 0.6925 - accuracy: 0.5188\n"
     ]
    },
    {
     "data": {
      "text/plain": [
       "<tensorflow.python.keras.callbacks.History at 0x7f2625b365b0>"
      ]
     },
     "execution_count": 80,
     "metadata": {},
     "output_type": "execute_result"
    }
   ],
   "source": [
    "## Question 5 Prep - training model with new augmented data\n",
    "\n",
    "# Create augmentor as per the homework question\n",
    "aug_train_gen = ImageDataGenerator(\n",
    "    rotation_range=40,\n",
    "    width_shift_range=0.2,\n",
    "    height_shift_range=0.2,\n",
    "    shear_range=0.2,\n",
    "    zoom_range=0.2,\n",
    "    horizontal_flip=True,\n",
    "    fill_mode='nearest'\n",
    ")\n",
    "\n",
    "aug_train_generator = aug_train_gen.flow_from_directory(\n",
    "     \"/home/antihaddock/Repos/mlbookcamp-code/mlbookcamp-code/data/train/\",\n",
    "    seed=1,\n",
    "    target_size=(150,150),\n",
    "    batch_size=20,\n",
    "    class_mode='binary',\n",
    "    classes=['dino', 'dragon'],\n",
    "    shuffle=True\n",
    ")\n",
    "\n",
    "# Load in pretrained model to train further\n",
    "new_model = tf.keras.models.load_model('Homework_model.hdf5')\n",
    "\n",
    "\n",
    "# # Train for another 10 epoc\n",
    "# model.fit(\n",
    "#     train_generator,\n",
    "#     epochs=10\n",
    "# )\n",
    "\n",
    "new_model.fit(\n",
    "    aug_train_generator,\n",
    "    epochs=10\n",
    ")"
   ]
  },
  {
   "cell_type": "code",
   "execution_count": 90,
   "metadata": {},
   "outputs": [
    {
     "name": "stdout",
     "output_type": "stream",
     "text": [
      "Found 394 images belonging to 2 classes.\n",
      "20/20 [==============================] - 3s 129ms/step - loss: 0.6940 - accuracy: 0.4975\n"
     ]
    },
    {
     "data": {
      "text/plain": [
       "[0.6939924359321594, 0.4974619150161743]"
      ]
     },
     "execution_count": 90,
     "metadata": {},
     "output_type": "execute_result"
    }
   ],
   "source": [
    "## Question 5 & 6\n",
    "\n",
    "test_ds =ImageDataGenerator(\n",
    "    rotation_range=40,\n",
    "    width_shift_range=0.2,\n",
    "    height_shift_range=0.2,\n",
    "    shear_range=0.2,\n",
    "    zoom_range=0.2,\n",
    "    horizontal_flip=True,\n",
    "    fill_mode='nearest'\n",
    ")\n",
    "\n",
    "test_generator = aug_train_gen.flow_from_directory(\n",
    "     \"/home/antihaddock/Repos/mlbookcamp-code/mlbookcamp-code/data/test/\",\n",
    "    seed=1,\n",
    "    target_size=(150,150),\n",
    "    batch_size=20,\n",
    "    class_mode='binary',\n",
    "    classes=['dino', 'dragon'],\n",
    "    shuffle=True\n",
    ")\n",
    "\n",
    "\n",
    "new_model.evaluate(test_generator)"
   ]
  }
 ],
 "metadata": {
  "kernelspec": {
   "display_name": "Python 3.8.13 ('mlbookcamp')",
   "language": "python",
   "name": "python3"
  },
  "language_info": {
   "codemirror_mode": {
    "name": "ipython",
    "version": 3
   },
   "file_extension": ".py",
   "mimetype": "text/x-python",
   "name": "python",
   "nbconvert_exporter": "python",
   "pygments_lexer": "ipython3",
   "version": "3.8.13"
  },
  "orig_nbformat": 4,
  "vscode": {
   "interpreter": {
    "hash": "7b596b120e57651b185bba9eba80c71cc80a5110b57f4a7d06244c07ed50e5fd"
   }
  }
 },
 "nbformat": 4,
 "nbformat_minor": 2
}
