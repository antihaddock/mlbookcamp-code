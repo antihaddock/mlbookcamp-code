{
 "cells": [
  {
   "cell_type": "code",
   "execution_count": null,
   "metadata": {},
   "outputs": [],
   "source": [
    "## Week 7 Homework"
   ]
  }
 ],
 "metadata": {
  "kernelspec": {
   "display_name": "Python 3.7.11 ('base')",
   "language": "python",
   "name": "python3"
  },
  "language_info": {
   "name": "python",
   "version": "3.7.11"
  },
  "orig_nbformat": 4,
  "vscode": {
   "interpreter": {
    "hash": "b99b88e093b52797bb1b49c7639d3619f8767e9d1745e29ebfe46603a1389c00"
   }
  }
 },
 "nbformat": 4,
 "nbformat_minor": 2
}
